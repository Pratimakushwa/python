{
 "cells": [
  {
   "cell_type": "code",
   "execution_count": null,
   "id": "4ff1579e-b384-4ef3-b061-43f485766253",
   "metadata": {},
   "outputs": [],
   "source": []
  }
 ],
 "metadata": {
  "kernelspec": {
   "display_name": "",
   "name": ""
  },
  "language_info": {
   "name": ""
  }
 },
 "nbformat": 4,
 "nbformat_minor": 5
}
